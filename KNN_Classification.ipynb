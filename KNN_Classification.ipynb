{
  "nbformat": 4,
  "nbformat_minor": 0,
  "metadata": {
    "colab": {
      "provenance": [],
      "authorship_tag": "ABX9TyOnFtLX1j9L2AqTibb7vruM",
      "include_colab_link": true
    },
    "kernelspec": {
      "name": "python3",
      "display_name": "Python 3"
    },
    "language_info": {
      "name": "python"
    }
  },
  "cells": [
    {
      "cell_type": "markdown",
      "metadata": {
        "id": "view-in-github",
        "colab_type": "text"
      },
      "source": [
        "<a href=\"https://colab.research.google.com/github/Usmana74/Python_Calculator/blob/master/KNN_Classification.ipynb\" target=\"_parent\"><img src=\"https://colab.research.google.com/assets/colab-badge.svg\" alt=\"Open In Colab\"/></a>"
      ]
    },
    {
      "cell_type": "code",
      "execution_count": null,
      "metadata": {
        "id": "hbViMTeSJGsQ"
      },
      "outputs": [],
      "source": [
        "import numpy as np\n",
        "import pandas as pd\n",
        "from collections import Counter\n"
      ]
    },
    {
      "cell_type": "code",
      "source": [
        "dataset=pd.read_csv('acid_dataset.csv')"
      ],
      "metadata": {
        "id": "dHy4CsTGJTWf"
      },
      "execution_count": null,
      "outputs": []
    },
    {
      "cell_type": "code",
      "source": [
        "def knn_classification(dataset,newacid,k=3):\n",
        "\n",
        "  features=dataset[['Acidity','Odour']].values\n",
        "  labels = dataset['Label'].values\n",
        "\n",
        "  distance=np.linalg.norm(features-newacid, axis=1)\n",
        "\n",
        "  k_indices=np.argsort(distance)[:k]\n",
        "\n",
        "  k_labels= labels[k_indices]\n",
        "\n",
        "  most_common= Counter(k_labels).most_common(1)\n",
        "\n",
        "  return most_common[0][0]"
      ],
      "metadata": {
        "id": "kk4hxq30Jwla"
      },
      "execution_count": null,
      "outputs": []
    },
    {
      "cell_type": "code",
      "source": [
        "newacid=np.array([4.37,2.4])\n",
        "\n",
        "predicted_label= knn_classification(dataset, newacid, k=3)\n",
        "\n",
        "print(f'The predicted label for new acid is:{predicted_label}')"
      ],
      "metadata": {
        "colab": {
          "base_uri": "https://localhost:8080/"
        },
        "id": "pKfSXF8HLIqc",
        "outputId": "845f9667-633e-4c84-f739-8b017a3a7e3b"
      },
      "execution_count": null,
      "outputs": [
        {
          "output_type": "stream",
          "name": "stdout",
          "text": [
            "The predicted label for new acid is:Bad\n"
          ]
        }
      ]
    }
  ]
}